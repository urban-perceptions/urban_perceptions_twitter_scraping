{
 "cells": [
  {
   "cell_type": "code",
   "execution_count": 1,
   "id": "597c7f36",
   "metadata": {},
   "outputs": [],
   "source": [
    "import pandas as pd"
   ]
  },
  {
   "cell_type": "code",
   "execution_count": 2,
   "id": "3c65ea3b",
   "metadata": {},
   "outputs": [],
   "source": [
    "tweets = pd.read_csv(\"city_tweets.csv\")"
   ]
  },
  {
   "cell_type": "code",
   "execution_count": 3,
   "id": "91036ccb",
   "metadata": {},
   "outputs": [
    {
     "data": {
      "text/html": [
       "<div>\n",
       "<style scoped>\n",
       "    .dataframe tbody tr th:only-of-type {\n",
       "        vertical-align: middle;\n",
       "    }\n",
       "\n",
       "    .dataframe tbody tr th {\n",
       "        vertical-align: top;\n",
       "    }\n",
       "\n",
       "    .dataframe thead th {\n",
       "        text-align: right;\n",
       "    }\n",
       "</style>\n",
       "<table border=\"1\" class=\"dataframe\">\n",
       "  <thead>\n",
       "    <tr style=\"text-align: right;\">\n",
       "      <th></th>\n",
       "      <th>Unnamed: 0</th>\n",
       "      <th>id</th>\n",
       "      <th>text</th>\n",
       "      <th>author_id</th>\n",
       "      <th>edit_history_tweet_ids</th>\n",
       "      <th>conversation_id</th>\n",
       "      <th>created_at</th>\n",
       "      <th>geo.place_id</th>\n",
       "      <th>referenced_tweets</th>\n",
       "      <th>withheld.copyright</th>\n",
       "      <th>withheld.country_codes</th>\n",
       "      <th>city</th>\n",
       "      <th>inside</th>\n",
       "    </tr>\n",
       "  </thead>\n",
       "  <tbody>\n",
       "    <tr>\n",
       "      <th>0</th>\n",
       "      <td>0</td>\n",
       "      <td>1396640490410418179</td>\n",
       "      <td>All the rain in North Texas got me like … #sur...</td>\n",
       "      <td>26630630</td>\n",
       "      <td>['1396640490410418179']</td>\n",
       "      <td>1396640490410418179</td>\n",
       "      <td>2021-05-24T01:33:35.000Z</td>\n",
       "      <td>42e46bc3663a4b5f</td>\n",
       "      <td>NaN</td>\n",
       "      <td>NaN</td>\n",
       "      <td>NaN</td>\n",
       "      <td>Fort Worth</td>\n",
       "      <td>1</td>\n",
       "    </tr>\n",
       "    <tr>\n",
       "      <th>1</th>\n",
       "      <td>1</td>\n",
       "      <td>1396618187903545344</td>\n",
       "      <td>PodCast https://t.co/LnDEGlAXys en Fort Worth,...</td>\n",
       "      <td>1408791613</td>\n",
       "      <td>['1396618187903545344']</td>\n",
       "      <td>1396618187903545344</td>\n",
       "      <td>2021-05-24T00:04:58.000Z</td>\n",
       "      <td>42e46bc3663a4b5f</td>\n",
       "      <td>NaN</td>\n",
       "      <td>NaN</td>\n",
       "      <td>NaN</td>\n",
       "      <td>Fort Worth</td>\n",
       "      <td>1</td>\n",
       "    </tr>\n",
       "    <tr>\n",
       "      <th>2</th>\n",
       "      <td>2</td>\n",
       "      <td>1396615685892096002</td>\n",
       "      <td>Just posted a video @ Fort Worth, Texas https:...</td>\n",
       "      <td>90184993</td>\n",
       "      <td>['1396615685892096002']</td>\n",
       "      <td>1396615685892096002</td>\n",
       "      <td>2021-05-23T23:55:02.000Z</td>\n",
       "      <td>42e46bc3663a4b5f</td>\n",
       "      <td>NaN</td>\n",
       "      <td>NaN</td>\n",
       "      <td>NaN</td>\n",
       "      <td>Fort Worth</td>\n",
       "      <td>1</td>\n",
       "    </tr>\n",
       "    <tr>\n",
       "      <th>3</th>\n",
       "      <td>3</td>\n",
       "      <td>1396611875278888968</td>\n",
       "      <td>Some serious orange joy #garden #flowers #bloo...</td>\n",
       "      <td>415712551</td>\n",
       "      <td>['1396611875278888968']</td>\n",
       "      <td>1396611875278888968</td>\n",
       "      <td>2021-05-23T23:39:53.000Z</td>\n",
       "      <td>42e46bc3663a4b5f</td>\n",
       "      <td>NaN</td>\n",
       "      <td>NaN</td>\n",
       "      <td>NaN</td>\n",
       "      <td>Fort Worth</td>\n",
       "      <td>1</td>\n",
       "    </tr>\n",
       "    <tr>\n",
       "      <th>4</th>\n",
       "      <td>4</td>\n",
       "      <td>1396609919244189696</td>\n",
       "      <td>I'm at Falcon Document Solutions in Fort Worth...</td>\n",
       "      <td>64588252</td>\n",
       "      <td>['1396609919244189696']</td>\n",
       "      <td>1396609919244189696</td>\n",
       "      <td>2021-05-23T23:32:07.000Z</td>\n",
       "      <td>42e46bc3663a4b5f</td>\n",
       "      <td>NaN</td>\n",
       "      <td>NaN</td>\n",
       "      <td>NaN</td>\n",
       "      <td>Fort Worth</td>\n",
       "      <td>1</td>\n",
       "    </tr>\n",
       "  </tbody>\n",
       "</table>\n",
       "</div>"
      ],
      "text/plain": [
       "   Unnamed: 0                   id  \\\n",
       "0           0  1396640490410418179   \n",
       "1           1  1396618187903545344   \n",
       "2           2  1396615685892096002   \n",
       "3           3  1396611875278888968   \n",
       "4           4  1396609919244189696   \n",
       "\n",
       "                                                text   author_id  \\\n",
       "0  All the rain in North Texas got me like … #sur...    26630630   \n",
       "1  PodCast https://t.co/LnDEGlAXys en Fort Worth,...  1408791613   \n",
       "2  Just posted a video @ Fort Worth, Texas https:...    90184993   \n",
       "3  Some serious orange joy #garden #flowers #bloo...   415712551   \n",
       "4  I'm at Falcon Document Solutions in Fort Worth...    64588252   \n",
       "\n",
       "    edit_history_tweet_ids      conversation_id                created_at  \\\n",
       "0  ['1396640490410418179']  1396640490410418179  2021-05-24T01:33:35.000Z   \n",
       "1  ['1396618187903545344']  1396618187903545344  2021-05-24T00:04:58.000Z   \n",
       "2  ['1396615685892096002']  1396615685892096002  2021-05-23T23:55:02.000Z   \n",
       "3  ['1396611875278888968']  1396611875278888968  2021-05-23T23:39:53.000Z   \n",
       "4  ['1396609919244189696']  1396609919244189696  2021-05-23T23:32:07.000Z   \n",
       "\n",
       "       geo.place_id referenced_tweets withheld.copyright  \\\n",
       "0  42e46bc3663a4b5f               NaN                NaN   \n",
       "1  42e46bc3663a4b5f               NaN                NaN   \n",
       "2  42e46bc3663a4b5f               NaN                NaN   \n",
       "3  42e46bc3663a4b5f               NaN                NaN   \n",
       "4  42e46bc3663a4b5f               NaN                NaN   \n",
       "\n",
       "  withheld.country_codes        city  inside  \n",
       "0                    NaN  Fort Worth       1  \n",
       "1                    NaN  Fort Worth       1  \n",
       "2                    NaN  Fort Worth       1  \n",
       "3                    NaN  Fort Worth       1  \n",
       "4                    NaN  Fort Worth       1  "
      ]
     },
     "execution_count": 3,
     "metadata": {},
     "output_type": "execute_result"
    }
   ],
   "source": [
    "tweets.head()"
   ]
  },
  {
   "cell_type": "code",
   "execution_count": 5,
   "id": "4a22f676",
   "metadata": {},
   "outputs": [
    {
     "data": {
      "text/plain": [
       "55706"
      ]
     },
     "execution_count": 5,
     "metadata": {},
     "output_type": "execute_result"
    }
   ],
   "source": [
    "len(tweets)"
   ]
  },
  {
   "cell_type": "code",
   "execution_count": 4,
   "id": "005ccb7c",
   "metadata": {},
   "outputs": [
    {
     "data": {
      "text/plain": [
       "5420"
      ]
     },
     "execution_count": 4,
     "metadata": {},
     "output_type": "execute_result"
    }
   ],
   "source": [
    "#Check for duplicates\n",
    "tweets.duplicated(subset=[\"id\"]).sum()"
   ]
  },
  {
   "cell_type": "code",
   "execution_count": 6,
   "id": "3795d74b",
   "metadata": {},
   "outputs": [],
   "source": [
    "tweets_no_dupes = tweets.drop_duplicates(subset=['id'])"
   ]
  },
  {
   "cell_type": "code",
   "execution_count": 9,
   "id": "d3a3efc9",
   "metadata": {},
   "outputs": [
    {
     "data": {
      "text/plain": [
       "city           inside\n",
       "Boston         0         2724\n",
       "               1         2411\n",
       "Chicago        0         2789\n",
       "               1         2735\n",
       "Fort Worth     0         1762\n",
       "               1         2183\n",
       "Jacksonville   0         2438\n",
       "               1         2208\n",
       "Las Vegas      0         2608\n",
       "               1         2792\n",
       "New York       0         2837\n",
       "               1         2607\n",
       "Phoenix        0         2735\n",
       "               1         2678\n",
       "San Antonio    0         2321\n",
       "               1         2567\n",
       "San Francisco  0         2619\n",
       "               1         2746\n",
       "Washington DC  0         2355\n",
       "               1         2171\n",
       "Name: id, dtype: int64"
      ]
     },
     "execution_count": 9,
     "metadata": {},
     "output_type": "execute_result"
    }
   ],
   "source": [
    "#ensure we have more than enough\n",
    "tweets_no_dupes.groupby(by=['city', 'inside'])['id'].count()"
   ]
  },
  {
   "cell_type": "code",
   "execution_count": 13,
   "id": "cb833bc6",
   "metadata": {},
   "outputs": [],
   "source": [
    "#tweets_no_dupes as separate file\n",
    "tweets_no_dupes.drop(columns=[\"Unnamed: 0\"]).to_csv(\"tweets_no_duplicates.csv\")"
   ]
  },
  {
   "cell_type": "code",
   "execution_count": 19,
   "id": "e6997bf0",
   "metadata": {},
   "outputs": [],
   "source": [
    "#get samples of 1000 per type\n",
    "seed = 12345\n",
    "samples = []\n",
    "for city in tweets_no_dupes.city.unique().tolist():\n",
    "    samples.append(tweets_no_dupes[(tweets_no_dupes.city == city) & (tweets_no_dupes.inside == 1)].sample(n=1000, random_state=seed))\n",
    "    samples.append(tweets_no_dupes[(tweets_no_dupes.city == city) & (tweets_no_dupes.inside == 0)].sample(n=1000, random_state=seed))"
   ]
  },
  {
   "cell_type": "code",
   "execution_count": 20,
   "id": "4ef10542",
   "metadata": {},
   "outputs": [],
   "source": [
    "#merge samples into 1 df\n",
    "sample = pd.concat(samples)"
   ]
  },
  {
   "cell_type": "code",
   "execution_count": 21,
   "id": "aef36394",
   "metadata": {},
   "outputs": [
    {
     "data": {
      "text/plain": [
       "city           inside\n",
       "Boston         0         1000\n",
       "               1         1000\n",
       "Chicago        0         1000\n",
       "               1         1000\n",
       "Fort Worth     0         1000\n",
       "               1         1000\n",
       "Jacksonville   0         1000\n",
       "               1         1000\n",
       "Las Vegas      0         1000\n",
       "               1         1000\n",
       "New York       0         1000\n",
       "               1         1000\n",
       "Phoenix        0         1000\n",
       "               1         1000\n",
       "San Antonio    0         1000\n",
       "               1         1000\n",
       "San Francisco  0         1000\n",
       "               1         1000\n",
       "Washington DC  0         1000\n",
       "               1         1000\n",
       "Name: id, dtype: int64"
      ]
     },
     "execution_count": 21,
     "metadata": {},
     "output_type": "execute_result"
    }
   ],
   "source": [
    "#make sure that worked\n",
    "sample.groupby(by=['city', 'inside'])['id'].count()"
   ]
  },
  {
   "cell_type": "code",
   "execution_count": 23,
   "id": "28e83f6f",
   "metadata": {},
   "outputs": [],
   "source": [
    "sample.drop(columns=[\"Unnamed: 0\"]).to_csv(\"tweets_sample.csv\")"
   ]
  },
  {
   "cell_type": "code",
   "execution_count": null,
   "id": "f9ce2b17",
   "metadata": {},
   "outputs": [],
   "source": []
  }
 ],
 "metadata": {
  "kernelspec": {
   "display_name": "Python 3 (ipykernel)",
   "language": "python",
   "name": "python3"
  },
  "language_info": {
   "codemirror_mode": {
    "name": "ipython",
    "version": 3
   },
   "file_extension": ".py",
   "mimetype": "text/x-python",
   "name": "python",
   "nbconvert_exporter": "python",
   "pygments_lexer": "ipython3",
   "version": "3.9.16"
  }
 },
 "nbformat": 4,
 "nbformat_minor": 5
}
