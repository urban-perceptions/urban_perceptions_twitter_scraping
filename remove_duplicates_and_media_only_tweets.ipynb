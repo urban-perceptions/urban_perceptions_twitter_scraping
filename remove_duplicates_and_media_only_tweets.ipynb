{
 "cells": [
  {
   "cell_type": "code",
   "execution_count": 1,
   "id": "597c7f36",
   "metadata": {},
   "outputs": [],
   "source": [
    "import pandas as pd"
   ]
  },
  {
   "cell_type": "code",
   "execution_count": 2,
   "id": "3c65ea3b",
   "metadata": {},
   "outputs": [
    {
     "name": "stderr",
     "output_type": "stream",
     "text": [
      "/var/folders/w2/999xw7715kj3_sqxrf0t3nb00000gn/T/ipykernel_5393/862014333.py:1: DtypeWarning: Columns (0,4,13) have mixed types. Specify dtype option on import or set low_memory=False.\n",
      "  tweets = pd.read_csv(\"city_tweets_hashtags2.csv\")\n"
     ]
    }
   ],
   "source": [
    "tweets = pd.read_csv(\"city_tweets_hashtags2.csv\")"
   ]
  },
  {
   "cell_type": "code",
   "execution_count": 3,
   "id": "91036ccb",
   "metadata": {},
   "outputs": [
    {
     "data": {
      "text/html": [
       "<div>\n",
       "<style scoped>\n",
       "    .dataframe tbody tr th:only-of-type {\n",
       "        vertical-align: middle;\n",
       "    }\n",
       "\n",
       "    .dataframe tbody tr th {\n",
       "        vertical-align: top;\n",
       "    }\n",
       "\n",
       "    .dataframe thead th {\n",
       "        text-align: right;\n",
       "    }\n",
       "</style>\n",
       "<table border=\"1\" class=\"dataframe\">\n",
       "  <thead>\n",
       "    <tr style=\"text-align: right;\">\n",
       "      <th></th>\n",
       "      <th>Unnamed: 0</th>\n",
       "      <th>conversation_id</th>\n",
       "      <th>edit_history_tweet_ids</th>\n",
       "      <th>text</th>\n",
       "      <th>author_id</th>\n",
       "      <th>created_at</th>\n",
       "      <th>id</th>\n",
       "      <th>geo.place_id</th>\n",
       "      <th>referenced_tweets</th>\n",
       "      <th>withheld.copyright</th>\n",
       "      <th>withheld.country_codes</th>\n",
       "      <th>city</th>\n",
       "      <th>inside</th>\n",
       "      <th>withheld.scope</th>\n",
       "    </tr>\n",
       "  </thead>\n",
       "  <tbody>\n",
       "    <tr>\n",
       "      <th>0</th>\n",
       "      <td>0</td>\n",
       "      <td>1254411667556966406</td>\n",
       "      <td>['1254411667556966406']</td>\n",
       "      <td>Never Perfect - Always FRESH\\n.\\n.\\n.\\n#Sergio...</td>\n",
       "      <td>90139598</td>\n",
       "      <td>2020-04-26T14:07:02.000Z</td>\n",
       "      <td>1.254412e+18</td>\n",
       "      <td>9531d4e3bbafc09d</td>\n",
       "      <td>NaN</td>\n",
       "      <td>NaN</td>\n",
       "      <td>NaN</td>\n",
       "      <td>Oklahoma City</td>\n",
       "      <td>1.0</td>\n",
       "      <td>NaN</td>\n",
       "    </tr>\n",
       "    <tr>\n",
       "      <th>1</th>\n",
       "      <td>1</td>\n",
       "      <td>1254156483375386628</td>\n",
       "      <td>['1254156483375386628']</td>\n",
       "      <td>The beginning of the end of a really fun proje...</td>\n",
       "      <td>15509517</td>\n",
       "      <td>2020-04-25T21:13:01.000Z</td>\n",
       "      <td>1.254156e+18</td>\n",
       "      <td>9531d4e3bbafc09d</td>\n",
       "      <td>NaN</td>\n",
       "      <td>NaN</td>\n",
       "      <td>NaN</td>\n",
       "      <td>Oklahoma City</td>\n",
       "      <td>1.0</td>\n",
       "      <td>NaN</td>\n",
       "    </tr>\n",
       "    <tr>\n",
       "      <th>2</th>\n",
       "      <td>2</td>\n",
       "      <td>1253735221054275584</td>\n",
       "      <td>['1253735221054275584']</td>\n",
       "      <td>Had to snap a pic, while the boys &amp;amp; I were...</td>\n",
       "      <td>553636490</td>\n",
       "      <td>2020-04-24T17:19:04.000Z</td>\n",
       "      <td>1.253735e+18</td>\n",
       "      <td>9531d4e3bbafc09d</td>\n",
       "      <td>NaN</td>\n",
       "      <td>NaN</td>\n",
       "      <td>NaN</td>\n",
       "      <td>Oklahoma City</td>\n",
       "      <td>1.0</td>\n",
       "      <td>NaN</td>\n",
       "    </tr>\n",
       "    <tr>\n",
       "      <th>3</th>\n",
       "      <td>3</td>\n",
       "      <td>1253108798656569344</td>\n",
       "      <td>['1253108798656569344']</td>\n",
       "      <td>It looks like hubby finished up on the grill j...</td>\n",
       "      <td>920444509095264256</td>\n",
       "      <td>2020-04-22T23:49:53.000Z</td>\n",
       "      <td>1.253109e+18</td>\n",
       "      <td>207f2c7abbdb201b</td>\n",
       "      <td>NaN</td>\n",
       "      <td>NaN</td>\n",
       "      <td>NaN</td>\n",
       "      <td>Oklahoma City</td>\n",
       "      <td>1.0</td>\n",
       "      <td>NaN</td>\n",
       "    </tr>\n",
       "    <tr>\n",
       "      <th>4</th>\n",
       "      <td>4</td>\n",
       "      <td>1253068595422048256</td>\n",
       "      <td>['1253068595422048256']</td>\n",
       "      <td>You deserve a treat @davidfholt and the people...</td>\n",
       "      <td>25919161</td>\n",
       "      <td>2020-04-22T21:10:08.000Z</td>\n",
       "      <td>1.253069e+18</td>\n",
       "      <td>62ff27569714ddb3</td>\n",
       "      <td>NaN</td>\n",
       "      <td>NaN</td>\n",
       "      <td>NaN</td>\n",
       "      <td>Oklahoma City</td>\n",
       "      <td>1.0</td>\n",
       "      <td>NaN</td>\n",
       "    </tr>\n",
       "  </tbody>\n",
       "</table>\n",
       "</div>"
      ],
      "text/plain": [
       "  Unnamed: 0      conversation_id   edit_history_tweet_ids  \\\n",
       "0          0  1254411667556966406  ['1254411667556966406']   \n",
       "1          1  1254156483375386628  ['1254156483375386628']   \n",
       "2          2  1253735221054275584  ['1253735221054275584']   \n",
       "3          3  1253108798656569344  ['1253108798656569344']   \n",
       "4          4  1253068595422048256  ['1253068595422048256']   \n",
       "\n",
       "                                                text           author_id  \\\n",
       "0  Never Perfect - Always FRESH\\n.\\n.\\n.\\n#Sergio...            90139598   \n",
       "1  The beginning of the end of a really fun proje...            15509517   \n",
       "2  Had to snap a pic, while the boys &amp; I were...           553636490   \n",
       "3  It looks like hubby finished up on the grill j...  920444509095264256   \n",
       "4  You deserve a treat @davidfholt and the people...            25919161   \n",
       "\n",
       "                 created_at            id      geo.place_id referenced_tweets  \\\n",
       "0  2020-04-26T14:07:02.000Z  1.254412e+18  9531d4e3bbafc09d               NaN   \n",
       "1  2020-04-25T21:13:01.000Z  1.254156e+18  9531d4e3bbafc09d               NaN   \n",
       "2  2020-04-24T17:19:04.000Z  1.253735e+18  9531d4e3bbafc09d               NaN   \n",
       "3  2020-04-22T23:49:53.000Z  1.253109e+18  207f2c7abbdb201b               NaN   \n",
       "4  2020-04-22T21:10:08.000Z  1.253069e+18  62ff27569714ddb3               NaN   \n",
       "\n",
       "  withheld.copyright withheld.country_codes           city  inside  \\\n",
       "0                NaN                    NaN  Oklahoma City     1.0   \n",
       "1                NaN                    NaN  Oklahoma City     1.0   \n",
       "2                NaN                    NaN  Oklahoma City     1.0   \n",
       "3                NaN                    NaN  Oklahoma City     1.0   \n",
       "4                NaN                    NaN  Oklahoma City     1.0   \n",
       "\n",
       "  withheld.scope  \n",
       "0            NaN  \n",
       "1            NaN  \n",
       "2            NaN  \n",
       "3            NaN  \n",
       "4            NaN  "
      ]
     },
     "execution_count": 3,
     "metadata": {},
     "output_type": "execute_result"
    }
   ],
   "source": [
    "tweets.head()"
   ]
  },
  {
   "cell_type": "code",
   "execution_count": 4,
   "id": "4a22f676",
   "metadata": {},
   "outputs": [
    {
     "data": {
      "text/plain": [
       "115901"
      ]
     },
     "execution_count": 4,
     "metadata": {},
     "output_type": "execute_result"
    }
   ],
   "source": [
    "len(tweets)"
   ]
  },
  {
   "cell_type": "code",
   "execution_count": 5,
   "id": "005ccb7c",
   "metadata": {},
   "outputs": [
    {
     "data": {
      "text/plain": [
       "45061"
      ]
     },
     "execution_count": 5,
     "metadata": {},
     "output_type": "execute_result"
    }
   ],
   "source": [
    "#Check for duplicates\n",
    "tweets.duplicated(subset=[\"id\"]).sum()"
   ]
  },
  {
   "cell_type": "code",
   "execution_count": 6,
   "id": "3795d74b",
   "metadata": {},
   "outputs": [],
   "source": [
    "tweets_no_dupes = tweets.drop_duplicates(subset=['id'])"
   ]
  },
  {
   "cell_type": "code",
   "execution_count": 7,
   "id": "8a0e4ed3",
   "metadata": {},
   "outputs": [
    {
     "data": {
      "text/plain": [
       "city              inside\n",
       "Colorado Springs  0.0       1315\n",
       "                  1.0       4875\n",
       "Kansas City       0.0       4829\n",
       "                  1.0       7724\n",
       "Los Angeles       0.0       9435\n",
       "                  1.0       8955\n",
       "New Orleans       0.0       6844\n",
       "                  1.0       8997\n",
       "Oklahoma City     0.0        992\n",
       "                  1.0       5317\n",
       "Philadelphia      0.0       8545\n",
       "                  1.0       8622\n",
       "Pittsburgh        0.0       5351\n",
       "                  1.0       8959\n",
       "Raleigh           0.0       2294\n",
       "                  1.0       6293\n",
       "Saint Louis       0.0        175\n",
       "                  1.0       1891\n",
       "Tampa             0.0       5797\n",
       "                  1.0       8689\n",
       "Name: id, dtype: int64"
      ]
     },
     "execution_count": 7,
     "metadata": {},
     "output_type": "execute_result"
    }
   ],
   "source": [
    "tweets.groupby(by=['city', 'inside'])['id'].count()"
   ]
  },
  {
   "cell_type": "code",
   "execution_count": 8,
   "id": "d3a3efc9",
   "metadata": {},
   "outputs": [
    {
     "data": {
      "text/plain": [
       "city              inside\n",
       "Colorado Springs  0.0        585\n",
       "                  1.0       2286\n",
       "Kansas City       0.0       2415\n",
       "                  1.0       4068\n",
       "Los Angeles       0.0       6906\n",
       "                  1.0       8131\n",
       "New Orleans       0.0       3281\n",
       "                  1.0       5415\n",
       "Oklahoma City     0.0        474\n",
       "                  1.0       3401\n",
       "Philadelphia      0.0       4304\n",
       "                  1.0       7180\n",
       "Pittsburgh        0.0       2143\n",
       "                  1.0       6081\n",
       "Raleigh           0.0       1105\n",
       "                  1.0       3494\n",
       "Saint Louis       0.0         78\n",
       "                  1.0        760\n",
       "Tampa             0.0       2835\n",
       "                  1.0       5897\n",
       "Name: id, dtype: int64"
      ]
     },
     "execution_count": 8,
     "metadata": {},
     "output_type": "execute_result"
    }
   ],
   "source": [
    "#ensure we have more than enough\n",
    "tweets_no_dupes.groupby(by=['city', 'inside'])['id'].count()"
   ]
  },
  {
   "cell_type": "code",
   "execution_count": null,
   "id": "a7020a9c",
   "metadata": {},
   "outputs": [],
   "source": []
  },
  {
   "cell_type": "code",
   "execution_count": 9,
   "id": "51e1a557",
   "metadata": {},
   "outputs": [
    {
     "name": "stderr",
     "output_type": "stream",
     "text": [
      "/var/folders/w2/999xw7715kj3_sqxrf0t3nb00000gn/T/ipykernel_5393/3952762645.py:1: SettingWithCopyWarning: \n",
      "A value is trying to be set on a copy of a slice from a DataFrame\n",
      "\n",
      "See the caveats in the documentation: https://pandas.pydata.org/pandas-docs/stable/user_guide/indexing.html#returning-a-view-versus-a-copy\n",
      "  tweets_no_dupes.dropna(subset=[\"text\"], inplace=True)\n"
     ]
    }
   ],
   "source": [
    "tweets_no_dupes.dropna(subset=[\"text\"], inplace=True)"
   ]
  },
  {
   "cell_type": "code",
   "execution_count": 10,
   "id": "2b7c2e88",
   "metadata": {},
   "outputs": [],
   "source": [
    "tweets_no_media_only = tweets_no_dupes.loc[~tweets_no_dupes.text.str.lower().str.contains(\"just posted a\")]"
   ]
  },
  {
   "cell_type": "code",
   "execution_count": 11,
   "id": "69968b85",
   "metadata": {},
   "outputs": [
    {
     "data": {
      "text/plain": [
       "city              inside\n",
       "Colorado Springs  0.0        585\n",
       "                  1.0       2286\n",
       "Kansas City       0.0       2415\n",
       "                  1.0       4068\n",
       "Los Angeles       0.0       6906\n",
       "                  1.0       8131\n",
       "New Orleans       0.0       3281\n",
       "                  1.0       5415\n",
       "Oklahoma City     0.0        474\n",
       "                  1.0       3401\n",
       "Philadelphia      0.0       4304\n",
       "                  1.0       7180\n",
       "Pittsburgh        0.0       2143\n",
       "                  1.0       6081\n",
       "Raleigh           0.0       1105\n",
       "                  1.0       3494\n",
       "Saint Louis       0.0         78\n",
       "                  1.0        760\n",
       "Tampa             0.0       2835\n",
       "                  1.0       5897\n",
       "Name: id, dtype: int64"
      ]
     },
     "execution_count": 11,
     "metadata": {},
     "output_type": "execute_result"
    }
   ],
   "source": [
    "tweets_no_media_only.groupby(by=['city', 'inside'])['id'].count()"
   ]
  },
  {
   "cell_type": "code",
   "execution_count": 12,
   "id": "46f9e3c3",
   "metadata": {},
   "outputs": [],
   "source": [
    "tweets_no_media_only.to_csv(\"tweets_hashtags2_no_dupes.csv\")"
   ]
  },
  {
   "cell_type": "code",
   "execution_count": 17,
   "id": "d416f7c7",
   "metadata": {},
   "outputs": [
    {
     "data": {
      "text/plain": [
       "['In Game 75 of the #NewYork #Yankees 2021 #MajorLeagueBaseball Season, played on #June 25, 2021, The #NewYork #Yankees lost to The #Boston #RedSox — A #Baseball game played at #FenwayPark is a #COVID19 #SuperSpreaderEvent —The New York Yankees record is now 40-35 https://t.co/CqycPZ3XHp',\n",
       " 'We offer #phones #repair #services\\n✓ #Screen\\n✓ #battery\\n✓ Software issues\\n\\n#oldellicottcity\\n#ellicottcity\\n#ellicottcitymd #catonsvillemd #columbiamd #laurelmd \\n#maryland #hocomd #washingtondc #miami \\n#iPhone #smartphone #roatech https://t.co/xSaYvxlHxe',\n",
       " 'Make #WashingtonDC a state!  @cspanwj',\n",
       " 'Now that #election coverage is slowing (kinda), I’m gonna drop some news in the #Austin, #ElPaso, #SanAntonio and #SouthTexas media markets tomorrow.... maybe even something for #LasCruces too #hustle 📺 🤓📺🤓📺🤓',\n",
       " 'My daughter took me out for Valentines Day dinner! #atlanta #beverlyhills #losangeles #sandiego #sanfrancisco #philadelphia #newyork #newyorkcity #cleveland #miami #chicago #lasvegas #portland #seattle #phoenix #neworleans #baltimore #houston #dallas #japan #unitedkingdom #dubai https://t.co/2lz9a6EndT',\n",
       " '#THIRSTYTHURSDAY on a #GAMEDAY has us feeling like....🤩 🍻  #UnderTheBleachers #Fenway #Boston #RedSox\\n••\\n📸 : Via Instagram, @ michaelangulo3 https://t.co/WLYEgrzLje',\n",
       " '#HappyMonday!\\nNew episode of @vegasrevealed is live during a big week in #LasVegas.\\n🎧 Listen. Rate. Review. \\n#VegasRevealed \\n#podcast #podcaster https://t.co/pnmtvrG4Rm',\n",
       " 'We’re doing a little hedge trimming today! #aboveandbeyondtree #treecare #treeservice #treework #treeworkers #treeguys #treelife #hedgetrimming #jacksonville #florida 👍🌳 @ West Jacksonville, Jacksonville https://t.co/0ZR7lBdyzy',\n",
       " '16TH STREET AND EVE ALBUM DROPS JANUARY 15TH\\n#newmusic #music #newalbum #album #piano #vocal #guitar #synth #beat #mixtape #lit #hype #fire #musicproducer #singersongwriter #songwriter #producer #record #recording #time #azmusic #arizona #phoenix #love #sing #voice https://t.co/HEKtkGOcA7',\n",
       " '#OceanBeach❤️#SanFrancisco \\n#CaliLove perfect weather 🌞 https://t.co/lUH6gI71aS']"
      ]
     },
     "execution_count": 17,
     "metadata": {},
     "output_type": "execute_result"
    }
   ],
   "source": [
    "tweets.sample(10).text.tolist()"
   ]
  },
  {
   "cell_type": "code",
   "execution_count": 13,
   "id": "d74f1c24",
   "metadata": {},
   "outputs": [],
   "source": [
    "long_tweets_only = tweets_no_media_only.loc[~(tweets_no_media_only.text.str.lower().str.len() < 64)]"
   ]
  },
  {
   "cell_type": "code",
   "execution_count": 14,
   "id": "6d56ac85",
   "metadata": {},
   "outputs": [
    {
     "data": {
      "text/plain": [
       "city              inside\n",
       "Colorado Springs  0.0        574\n",
       "                  1.0       2262\n",
       "Kansas City       0.0       2316\n",
       "                  1.0       3987\n",
       "Los Angeles       0.0       6788\n",
       "                  1.0       7967\n",
       "New Orleans       0.0       3162\n",
       "                  1.0       5290\n",
       "Oklahoma City     0.0        466\n",
       "                  1.0       3391\n",
       "Philadelphia      0.0       4221\n",
       "                  1.0       7138\n",
       "Pittsburgh        0.0       2009\n",
       "                  1.0       5899\n",
       "Raleigh           0.0       1072\n",
       "                  1.0       3368\n",
       "Saint Louis       0.0         74\n",
       "                  1.0        753\n",
       "Tampa             0.0       2726\n",
       "                  1.0       5761\n",
       "Name: id, dtype: int64"
      ]
     },
     "execution_count": 14,
     "metadata": {},
     "output_type": "execute_result"
    }
   ],
   "source": [
    "long_tweets_only.groupby(by=['city', 'inside'])['id'].count()"
   ]
  },
  {
   "cell_type": "code",
   "execution_count": 15,
   "id": "e6997bf0",
   "metadata": {},
   "outputs": [],
   "source": [
    "#get samples of 1000 per type\n",
    "seed = 12345\n",
    "samples = []\n",
    "for city in long_tweets_only.city.unique().tolist():\n",
    "    samples.append(long_tweets_only[(long_tweets_only.city == city) & (long_tweets_only.inside == 1)].sample(n=1000, random_state=seed))\n",
    "    samples.append(long_tweets_only[(long_tweets_only.city == city) & (long_tweets_only.inside == 0)].sample(n=1000, random_state=seed))"
   ]
  },
  {
   "cell_type": "code",
   "execution_count": 16,
   "id": "4ef10542",
   "metadata": {},
   "outputs": [],
   "source": [
    "#merge samples into 1 df\n",
    "sample = pd.concat(samples)"
   ]
  },
  {
   "cell_type": "code",
   "execution_count": 17,
   "id": "aef36394",
   "metadata": {},
   "outputs": [
    {
     "data": {
      "text/plain": [
       "city           inside\n",
       "Boston         0         1000\n",
       "               1         1000\n",
       "Chicago        0         1000\n",
       "               1         1000\n",
       "Fort Worth     0         1000\n",
       "               1         1000\n",
       "Jacksonville   0         1000\n",
       "               1         1000\n",
       "Las Vegas      0         1000\n",
       "               1         1000\n",
       "New York       0         1000\n",
       "               1         1000\n",
       "Phoenix        0         1000\n",
       "               1         1000\n",
       "San Antonio    0         1000\n",
       "               1         1000\n",
       "San Francisco  0         1000\n",
       "               1         1000\n",
       "Washington DC  0         1000\n",
       "               1         1000\n",
       "Name: id, dtype: int64"
      ]
     },
     "execution_count": 17,
     "metadata": {},
     "output_type": "execute_result"
    }
   ],
   "source": [
    "#make sure that worked\n",
    "sample.groupby(by=['city', 'inside'])['id'].count()"
   ]
  },
  {
   "cell_type": "code",
   "execution_count": 22,
   "id": "28e83f6f",
   "metadata": {},
   "outputs": [],
   "source": [
    "sample.drop(columns=[\"Unnamed: 0\"]).to_csv(\"tweets_sample.csv\")"
   ]
  },
  {
   "cell_type": "code",
   "execution_count": 23,
   "id": "f9ce2b17",
   "metadata": {},
   "outputs": [
    {
     "data": {
      "text/plain": [
       "36159    St. Pires en White Plains, New York https://t....\n",
       "19971           The Las Vegas Golden Knights are for sluts\n",
       "43511    Washington DC JUNE 25 😎 Get your tix: https://...\n",
       "46429       64 Lawn Street, Boston https://t.co/vrE95kULmp\n",
       "2254     Work day views @ Fort Worth, Texas https://t.c...\n",
       "2497     Midway grad doing things in Fort Worth https:/...\n",
       "49136    Never bent, never fold, never told, long live ...\n",
       "11993    I'm at Moon Valley in Phoenix, AZ https://t.co...\n",
       "3724     KofiMania is on fire in Fort Worth!! Yes!!! #MITB\n",
       "44566    47 Crawford Street, Boston https://t.co/6qEXV8...\n",
       "Name: text, dtype: object"
      ]
     },
     "execution_count": 23,
     "metadata": {},
     "output_type": "execute_result"
    }
   ],
   "source": [
    "sample.loc[sample.text.str.len() < 64].sample(10).text"
   ]
  },
  {
   "cell_type": "code",
   "execution_count": null,
   "id": "f41e8088",
   "metadata": {},
   "outputs": [],
   "source": []
  }
 ],
 "metadata": {
  "kernelspec": {
   "display_name": "Python 3 (ipykernel)",
   "language": "python",
   "name": "python3"
  },
  "language_info": {
   "codemirror_mode": {
    "name": "ipython",
    "version": 3
   },
   "file_extension": ".py",
   "mimetype": "text/x-python",
   "name": "python",
   "nbconvert_exporter": "python",
   "pygments_lexer": "ipython3",
   "version": "3.9.16"
  }
 },
 "nbformat": 4,
 "nbformat_minor": 5
}
