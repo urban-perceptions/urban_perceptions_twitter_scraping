{
 "cells": [
  {
   "cell_type": "code",
   "execution_count": 1,
   "id": "597c7f36",
   "metadata": {},
   "outputs": [],
   "source": [
    "import pandas as pd"
   ]
  },
  {
   "cell_type": "code",
   "execution_count": 4,
   "id": "3c65ea3b",
   "metadata": {},
   "outputs": [
    {
     "name": "stderr",
     "output_type": "stream",
     "text": [
      "/var/folders/w2/999xw7715kj3_sqxrf0t3nb00000gn/T/ipykernel_68985/1423351188.py:1: DtypeWarning: Columns (13) have mixed types. Specify dtype option on import or set low_memory=False.\n",
      "  tweets = pd.read_csv(\"cities_tweets_hashtags.csv\")\n"
     ]
    }
   ],
   "source": [
    "tweets = pd.read_csv(\"cities_tweets_hashtags.csv\")"
   ]
  },
  {
   "cell_type": "code",
   "execution_count": 5,
   "id": "91036ccb",
   "metadata": {},
   "outputs": [
    {
     "data": {
      "text/html": [
       "<div>\n",
       "<style scoped>\n",
       "    .dataframe tbody tr th:only-of-type {\n",
       "        vertical-align: middle;\n",
       "    }\n",
       "\n",
       "    .dataframe tbody tr th {\n",
       "        vertical-align: top;\n",
       "    }\n",
       "\n",
       "    .dataframe thead th {\n",
       "        text-align: right;\n",
       "    }\n",
       "</style>\n",
       "<table border=\"1\" class=\"dataframe\">\n",
       "  <thead>\n",
       "    <tr style=\"text-align: right;\">\n",
       "      <th></th>\n",
       "      <th>Unnamed: 0</th>\n",
       "      <th>created_at</th>\n",
       "      <th>id</th>\n",
       "      <th>conversation_id</th>\n",
       "      <th>text</th>\n",
       "      <th>edit_history_tweet_ids</th>\n",
       "      <th>author_id</th>\n",
       "      <th>geo.place_id</th>\n",
       "      <th>referenced_tweets</th>\n",
       "      <th>city</th>\n",
       "      <th>inside</th>\n",
       "      <th>withheld.copyright</th>\n",
       "      <th>withheld.country_codes</th>\n",
       "      <th>withheld.scope</th>\n",
       "    </tr>\n",
       "  </thead>\n",
       "  <tbody>\n",
       "    <tr>\n",
       "      <th>0</th>\n",
       "      <td>0</td>\n",
       "      <td>2021-01-27T06:05:44.000Z</td>\n",
       "      <td>1354309595733381121</td>\n",
       "      <td>1354309595733381121</td>\n",
       "      <td>Accident, right lane blocked in #FortWorth on ...</td>\n",
       "      <td>['1354309595733381121']</td>\n",
       "      <td>41679815</td>\n",
       "      <td>42e46bc3663a4b5f</td>\n",
       "      <td>NaN</td>\n",
       "      <td>Fort Worth</td>\n",
       "      <td>1</td>\n",
       "      <td>NaN</td>\n",
       "      <td>NaN</td>\n",
       "      <td>NaN</td>\n",
       "    </tr>\n",
       "    <tr>\n",
       "      <th>1</th>\n",
       "      <td>1</td>\n",
       "      <td>2021-01-27T01:30:44.000Z</td>\n",
       "      <td>1354240391030185988</td>\n",
       "      <td>1354240391030185988</td>\n",
       "      <td>Accident cleared in #FortWorth on 20 (Ft. Wort...</td>\n",
       "      <td>['1354240391030185988']</td>\n",
       "      <td>41679815</td>\n",
       "      <td>42e46bc3663a4b5f</td>\n",
       "      <td>NaN</td>\n",
       "      <td>Fort Worth</td>\n",
       "      <td>1</td>\n",
       "      <td>NaN</td>\n",
       "      <td>NaN</td>\n",
       "      <td>NaN</td>\n",
       "    </tr>\n",
       "    <tr>\n",
       "      <th>2</th>\n",
       "      <td>2</td>\n",
       "      <td>2021-01-27T01:25:43.000Z</td>\n",
       "      <td>1354239127630340097</td>\n",
       "      <td>1354239127630340097</td>\n",
       "      <td>Accident. only the right lane gets through in ...</td>\n",
       "      <td>['1354239127630340097']</td>\n",
       "      <td>41679815</td>\n",
       "      <td>42e46bc3663a4b5f</td>\n",
       "      <td>NaN</td>\n",
       "      <td>Fort Worth</td>\n",
       "      <td>1</td>\n",
       "      <td>NaN</td>\n",
       "      <td>NaN</td>\n",
       "      <td>NaN</td>\n",
       "    </tr>\n",
       "    <tr>\n",
       "      <th>3</th>\n",
       "      <td>3</td>\n",
       "      <td>2021-01-27T01:15:44.000Z</td>\n",
       "      <td>1354236615569387521</td>\n",
       "      <td>1354236615569387521</td>\n",
       "      <td>Accident, right lane blocked in #FortWorth on ...</td>\n",
       "      <td>['1354236615569387521']</td>\n",
       "      <td>41679815</td>\n",
       "      <td>42e46bc3663a4b5f</td>\n",
       "      <td>NaN</td>\n",
       "      <td>Fort Worth</td>\n",
       "      <td>1</td>\n",
       "      <td>NaN</td>\n",
       "      <td>NaN</td>\n",
       "      <td>NaN</td>\n",
       "    </tr>\n",
       "    <tr>\n",
       "      <th>4</th>\n",
       "      <td>4</td>\n",
       "      <td>2021-01-27T01:10:43.000Z</td>\n",
       "      <td>1354235354036002816</td>\n",
       "      <td>1354235354036002816</td>\n",
       "      <td>Debris blocks three right lanes in #FortWorth ...</td>\n",
       "      <td>['1354235354036002816']</td>\n",
       "      <td>41679815</td>\n",
       "      <td>42e46bc3663a4b5f</td>\n",
       "      <td>NaN</td>\n",
       "      <td>Fort Worth</td>\n",
       "      <td>1</td>\n",
       "      <td>NaN</td>\n",
       "      <td>NaN</td>\n",
       "      <td>NaN</td>\n",
       "    </tr>\n",
       "  </tbody>\n",
       "</table>\n",
       "</div>"
      ],
      "text/plain": [
       "   Unnamed: 0                created_at                   id  \\\n",
       "0           0  2021-01-27T06:05:44.000Z  1354309595733381121   \n",
       "1           1  2021-01-27T01:30:44.000Z  1354240391030185988   \n",
       "2           2  2021-01-27T01:25:43.000Z  1354239127630340097   \n",
       "3           3  2021-01-27T01:15:44.000Z  1354236615569387521   \n",
       "4           4  2021-01-27T01:10:43.000Z  1354235354036002816   \n",
       "\n",
       "       conversation_id                                               text  \\\n",
       "0  1354309595733381121  Accident, right lane blocked in #FortWorth on ...   \n",
       "1  1354240391030185988  Accident cleared in #FortWorth on 20 (Ft. Wort...   \n",
       "2  1354239127630340097  Accident. only the right lane gets through in ...   \n",
       "3  1354236615569387521  Accident, right lane blocked in #FortWorth on ...   \n",
       "4  1354235354036002816  Debris blocks three right lanes in #FortWorth ...   \n",
       "\n",
       "    edit_history_tweet_ids  author_id      geo.place_id referenced_tweets  \\\n",
       "0  ['1354309595733381121']   41679815  42e46bc3663a4b5f               NaN   \n",
       "1  ['1354240391030185988']   41679815  42e46bc3663a4b5f               NaN   \n",
       "2  ['1354239127630340097']   41679815  42e46bc3663a4b5f               NaN   \n",
       "3  ['1354236615569387521']   41679815  42e46bc3663a4b5f               NaN   \n",
       "4  ['1354235354036002816']   41679815  42e46bc3663a4b5f               NaN   \n",
       "\n",
       "         city  inside withheld.copyright withheld.country_codes withheld.scope  \n",
       "0  Fort Worth       1                NaN                    NaN            NaN  \n",
       "1  Fort Worth       1                NaN                    NaN            NaN  \n",
       "2  Fort Worth       1                NaN                    NaN            NaN  \n",
       "3  Fort Worth       1                NaN                    NaN            NaN  \n",
       "4  Fort Worth       1                NaN                    NaN            NaN  "
      ]
     },
     "execution_count": 5,
     "metadata": {},
     "output_type": "execute_result"
    }
   ],
   "source": [
    "tweets.head()"
   ]
  },
  {
   "cell_type": "code",
   "execution_count": 6,
   "id": "4a22f676",
   "metadata": {},
   "outputs": [
    {
     "data": {
      "text/plain": [
       "79183"
      ]
     },
     "execution_count": 6,
     "metadata": {},
     "output_type": "execute_result"
    }
   ],
   "source": [
    "len(tweets)"
   ]
  },
  {
   "cell_type": "code",
   "execution_count": 7,
   "id": "005ccb7c",
   "metadata": {},
   "outputs": [
    {
     "data": {
      "text/plain": [
       "34745"
      ]
     },
     "execution_count": 7,
     "metadata": {},
     "output_type": "execute_result"
    }
   ],
   "source": [
    "#Check for duplicates\n",
    "tweets.duplicated(subset=[\"id\"]).sum()"
   ]
  },
  {
   "cell_type": "code",
   "execution_count": 12,
   "id": "3795d74b",
   "metadata": {},
   "outputs": [],
   "source": [
    "tweets_no_dupes = tweets.drop_duplicates(subset=['id'], keep=False)"
   ]
  },
  {
   "cell_type": "code",
   "execution_count": 13,
   "id": "d3a3efc9",
   "metadata": {},
   "outputs": [
    {
     "data": {
      "text/plain": [
       "city           inside\n",
       "Boston         0          801\n",
       "               1         2247\n",
       "Chicago        0         1597\n",
       "               1         2631\n",
       "Fort Worth     0           39\n",
       "               1         2175\n",
       "Jacksonville   0          275\n",
       "               1           17\n",
       "Las Vegas      0         1044\n",
       "               1         3315\n",
       "New York       0         2552\n",
       "               1         2747\n",
       "Phoenix        0          507\n",
       "               1         1995\n",
       "San Antonio    0          161\n",
       "               1         1959\n",
       "San Francisco  0          799\n",
       "               1         2305\n",
       "Washington DC  0          146\n",
       "               1         1549\n",
       "Name: id, dtype: int64"
      ]
     },
     "execution_count": 13,
     "metadata": {},
     "output_type": "execute_result"
    }
   ],
   "source": [
    "#ensure we have more than enough\n",
    "tweets_no_dupes.groupby(by=['city', 'inside'])['id'].count()"
   ]
  },
  {
   "cell_type": "code",
   "execution_count": 8,
   "id": "cb833bc6",
   "metadata": {},
   "outputs": [],
   "source": [
    "#tweets_no_dupes as separate file\n",
    "tweets_no_dupes.drop(columns=[\"Unnamed: 0\"]).to_csv(\"tweets_no_duplicates.csv\")"
   ]
  },
  {
   "cell_type": "code",
   "execution_count": 9,
   "id": "2b7c2e88",
   "metadata": {},
   "outputs": [],
   "source": [
    "tweets_no_media_only = tweets_no_dupes.loc[~tweets_no_dupes.text.str.lower().str.contains(\"just posted a\")]"
   ]
  },
  {
   "cell_type": "code",
   "execution_count": 10,
   "id": "69968b85",
   "metadata": {},
   "outputs": [
    {
     "data": {
      "text/plain": [
       "city           inside\n",
       "Boston         0         2703\n",
       "               1         2091\n",
       "Chicago        0         2778\n",
       "               1         2219\n",
       "Fort Worth     0         1757\n",
       "               1         1549\n",
       "Jacksonville   0         2244\n",
       "               1         1317\n",
       "Las Vegas      0         2585\n",
       "               1         1922\n",
       "New York       0         2379\n",
       "               1         1808\n",
       "Phoenix        0         2645\n",
       "               1         2096\n",
       "San Antonio    0         2290\n",
       "               1         1992\n",
       "San Francisco  0         2577\n",
       "               1         2079\n",
       "Washington DC  0         2312\n",
       "               1         2098\n",
       "Name: id, dtype: int64"
      ]
     },
     "execution_count": 10,
     "metadata": {},
     "output_type": "execute_result"
    }
   ],
   "source": [
    "tweets_no_media_only.groupby(by=['city', 'inside'])['id'].count()"
   ]
  },
  {
   "cell_type": "code",
   "execution_count": 13,
   "id": "46f9e3c3",
   "metadata": {},
   "outputs": [],
   "source": [
    "tweets_no_media_only.to_csv(\"tweets_no_media.csv\")"
   ]
  },
  {
   "cell_type": "code",
   "execution_count": 11,
   "id": "d74f1c24",
   "metadata": {},
   "outputs": [],
   "source": [
    "long_tweets_only = tweets_no_media_only.loc[~(tweets_no_media_only.text.str.lower().str.len() < 64)]"
   ]
  },
  {
   "cell_type": "code",
   "execution_count": 12,
   "id": "6d56ac85",
   "metadata": {},
   "outputs": [
    {
     "data": {
      "text/plain": [
       "city           inside\n",
       "Boston         0         2118\n",
       "               1         1187\n",
       "Chicago        0         2174\n",
       "               1         1870\n",
       "Fort Worth     0         1495\n",
       "               1         1346\n",
       "Jacksonville   0         1935\n",
       "               1         1246\n",
       "Las Vegas      0         2217\n",
       "               1         1745\n",
       "New York       0         1945\n",
       "               1         1539\n",
       "Phoenix        0         2224\n",
       "               1         1807\n",
       "San Antonio    0         1954\n",
       "               1         1784\n",
       "San Francisco  0         2360\n",
       "               1         1925\n",
       "Washington DC  0         2214\n",
       "               1         2042\n",
       "Name: id, dtype: int64"
      ]
     },
     "execution_count": 12,
     "metadata": {},
     "output_type": "execute_result"
    }
   ],
   "source": [
    "long_tweets_only.groupby(by=['city', 'inside'])['id'].count()"
   ]
  },
  {
   "cell_type": "code",
   "execution_count": 15,
   "id": "e6997bf0",
   "metadata": {},
   "outputs": [],
   "source": [
    "#get samples of 1000 per type\n",
    "seed = 12345\n",
    "samples = []\n",
    "for city in long_tweets_only.city.unique().tolist():\n",
    "    samples.append(long_tweets_only[(long_tweets_only.city == city) & (long_tweets_only.inside == 1)].sample(n=1000, random_state=seed))\n",
    "    samples.append(long_tweets_only[(long_tweets_only.city == city) & (long_tweets_only.inside == 0)].sample(n=1000, random_state=seed))"
   ]
  },
  {
   "cell_type": "code",
   "execution_count": 16,
   "id": "4ef10542",
   "metadata": {},
   "outputs": [],
   "source": [
    "#merge samples into 1 df\n",
    "sample = pd.concat(samples)"
   ]
  },
  {
   "cell_type": "code",
   "execution_count": 17,
   "id": "aef36394",
   "metadata": {},
   "outputs": [
    {
     "data": {
      "text/plain": [
       "city           inside\n",
       "Boston         0         1000\n",
       "               1         1000\n",
       "Chicago        0         1000\n",
       "               1         1000\n",
       "Fort Worth     0         1000\n",
       "               1         1000\n",
       "Jacksonville   0         1000\n",
       "               1         1000\n",
       "Las Vegas      0         1000\n",
       "               1         1000\n",
       "New York       0         1000\n",
       "               1         1000\n",
       "Phoenix        0         1000\n",
       "               1         1000\n",
       "San Antonio    0         1000\n",
       "               1         1000\n",
       "San Francisco  0         1000\n",
       "               1         1000\n",
       "Washington DC  0         1000\n",
       "               1         1000\n",
       "Name: id, dtype: int64"
      ]
     },
     "execution_count": 17,
     "metadata": {},
     "output_type": "execute_result"
    }
   ],
   "source": [
    "#make sure that worked\n",
    "sample.groupby(by=['city', 'inside'])['id'].count()"
   ]
  },
  {
   "cell_type": "code",
   "execution_count": 22,
   "id": "28e83f6f",
   "metadata": {},
   "outputs": [],
   "source": [
    "sample.drop(columns=[\"Unnamed: 0\"]).to_csv(\"tweets_sample.csv\")"
   ]
  },
  {
   "cell_type": "code",
   "execution_count": 23,
   "id": "f9ce2b17",
   "metadata": {},
   "outputs": [
    {
     "data": {
      "text/plain": [
       "36159    St. Pires en White Plains, New York https://t....\n",
       "19971           The Las Vegas Golden Knights are for sluts\n",
       "43511    Washington DC JUNE 25 😎 Get your tix: https://...\n",
       "46429       64 Lawn Street, Boston https://t.co/vrE95kULmp\n",
       "2254     Work day views @ Fort Worth, Texas https://t.c...\n",
       "2497     Midway grad doing things in Fort Worth https:/...\n",
       "49136    Never bent, never fold, never told, long live ...\n",
       "11993    I'm at Moon Valley in Phoenix, AZ https://t.co...\n",
       "3724     KofiMania is on fire in Fort Worth!! Yes!!! #MITB\n",
       "44566    47 Crawford Street, Boston https://t.co/6qEXV8...\n",
       "Name: text, dtype: object"
      ]
     },
     "execution_count": 23,
     "metadata": {},
     "output_type": "execute_result"
    }
   ],
   "source": [
    "sample.loc[sample.text.str.len() < 64].sample(10).text"
   ]
  },
  {
   "cell_type": "code",
   "execution_count": null,
   "id": "f41e8088",
   "metadata": {},
   "outputs": [],
   "source": []
  }
 ],
 "metadata": {
  "kernelspec": {
   "display_name": "Python 3 (ipykernel)",
   "language": "python",
   "name": "python3"
  },
  "language_info": {
   "codemirror_mode": {
    "name": "ipython",
    "version": 3
   },
   "file_extension": ".py",
   "mimetype": "text/x-python",
   "name": "python",
   "nbconvert_exporter": "python",
   "pygments_lexer": "ipython3",
   "version": "3.9.16"
  }
 },
 "nbformat": 4,
 "nbformat_minor": 5
}
