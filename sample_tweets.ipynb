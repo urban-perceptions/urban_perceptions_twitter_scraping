{
 "cells": [
  {
   "cell_type": "code",
   "execution_count": 1,
   "id": "2b725052",
   "metadata": {},
   "outputs": [],
   "source": [
    "import pandas as pd"
   ]
  },
  {
   "cell_type": "code",
   "execution_count": 2,
   "id": "4bfa43d5",
   "metadata": {},
   "outputs": [],
   "source": [
    "tweets = pd.read_csv(\"clean_tweets_no_media.csv\")"
   ]
  },
  {
   "cell_type": "code",
   "execution_count": 3,
   "id": "9492c680",
   "metadata": {},
   "outputs": [
    {
     "data": {
      "text/html": [
       "<div>\n",
       "<style scoped>\n",
       "    .dataframe tbody tr th:only-of-type {\n",
       "        vertical-align: middle;\n",
       "    }\n",
       "\n",
       "    .dataframe tbody tr th {\n",
       "        vertical-align: top;\n",
       "    }\n",
       "\n",
       "    .dataframe thead th {\n",
       "        text-align: right;\n",
       "    }\n",
       "</style>\n",
       "<table border=\"1\" class=\"dataframe\">\n",
       "  <thead>\n",
       "    <tr style=\"text-align: right;\">\n",
       "      <th></th>\n",
       "      <th>Unnamed: 0.2</th>\n",
       "      <th>Unnamed: 0.1</th>\n",
       "      <th>Unnamed: 0</th>\n",
       "      <th>id</th>\n",
       "      <th>raw_text</th>\n",
       "      <th>author_id</th>\n",
       "      <th>edit_history_tweet_ids</th>\n",
       "      <th>conversation_id</th>\n",
       "      <th>created_at</th>\n",
       "      <th>geo.place_id</th>\n",
       "      <th>referenced_tweets</th>\n",
       "      <th>withheld.copyright</th>\n",
       "      <th>withheld.country_codes</th>\n",
       "      <th>city</th>\n",
       "      <th>inside</th>\n",
       "      <th>text_clean</th>\n",
       "    </tr>\n",
       "  </thead>\n",
       "  <tbody>\n",
       "    <tr>\n",
       "      <th>0</th>\n",
       "      <td>0</td>\n",
       "      <td>0</td>\n",
       "      <td>0</td>\n",
       "      <td>1396640490410418179</td>\n",
       "      <td>All the rain in North Texas got me like … #sur...</td>\n",
       "      <td>26630630</td>\n",
       "      <td>['1396640490410418179']</td>\n",
       "      <td>1396640490410418179</td>\n",
       "      <td>2021-05-24T01:33:35.000Z</td>\n",
       "      <td>42e46bc3663a4b5f</td>\n",
       "      <td>NaN</td>\n",
       "      <td>NaN</td>\n",
       "      <td>NaN</td>\n",
       "      <td>Fort Worth</td>\n",
       "      <td>1</td>\n",
       "      <td>all the rain in north texas got me like surfs ...</td>\n",
       "    </tr>\n",
       "    <tr>\n",
       "      <th>1</th>\n",
       "      <td>1</td>\n",
       "      <td>1</td>\n",
       "      <td>1</td>\n",
       "      <td>1396618187903545344</td>\n",
       "      <td>PodCast https://t.co/LnDEGlAXys en Fort Worth,...</td>\n",
       "      <td>1408791613</td>\n",
       "      <td>['1396618187903545344']</td>\n",
       "      <td>1396618187903545344</td>\n",
       "      <td>2021-05-24T00:04:58.000Z</td>\n",
       "      <td>42e46bc3663a4b5f</td>\n",
       "      <td>NaN</td>\n",
       "      <td>NaN</td>\n",
       "      <td>NaN</td>\n",
       "      <td>Fort Worth</td>\n",
       "      <td>1</td>\n",
       "      <td>podcast en fort worth texas</td>\n",
       "    </tr>\n",
       "    <tr>\n",
       "      <th>2</th>\n",
       "      <td>2</td>\n",
       "      <td>3</td>\n",
       "      <td>3</td>\n",
       "      <td>1396611875278888968</td>\n",
       "      <td>Some serious orange joy #garden #flowers #bloo...</td>\n",
       "      <td>415712551</td>\n",
       "      <td>['1396611875278888968']</td>\n",
       "      <td>1396611875278888968</td>\n",
       "      <td>2021-05-23T23:39:53.000Z</td>\n",
       "      <td>42e46bc3663a4b5f</td>\n",
       "      <td>NaN</td>\n",
       "      <td>NaN</td>\n",
       "      <td>NaN</td>\n",
       "      <td>Fort Worth</td>\n",
       "      <td>1</td>\n",
       "      <td>some serious orange joy garden flowers bloom c...</td>\n",
       "    </tr>\n",
       "    <tr>\n",
       "      <th>3</th>\n",
       "      <td>3</td>\n",
       "      <td>4</td>\n",
       "      <td>4</td>\n",
       "      <td>1396609919244189696</td>\n",
       "      <td>I'm at Falcon Document Solutions in Fort Worth...</td>\n",
       "      <td>64588252</td>\n",
       "      <td>['1396609919244189696']</td>\n",
       "      <td>1396609919244189696</td>\n",
       "      <td>2021-05-23T23:32:07.000Z</td>\n",
       "      <td>42e46bc3663a4b5f</td>\n",
       "      <td>NaN</td>\n",
       "      <td>NaN</td>\n",
       "      <td>NaN</td>\n",
       "      <td>Fort Worth</td>\n",
       "      <td>1</td>\n",
       "      <td>i m at falcon document solutions in fort worth tx</td>\n",
       "    </tr>\n",
       "    <tr>\n",
       "      <th>4</th>\n",
       "      <td>4</td>\n",
       "      <td>5</td>\n",
       "      <td>5</td>\n",
       "      <td>1396586482492710912</td>\n",
       "      <td>I wasn’t sure if we were in Fort Worth or Juma...</td>\n",
       "      <td>1152634941756321792</td>\n",
       "      <td>['1396586482492710912']</td>\n",
       "      <td>1396586482492710912</td>\n",
       "      <td>2021-05-23T21:58:59.000Z</td>\n",
       "      <td>6e315e1f96e0450a</td>\n",
       "      <td>NaN</td>\n",
       "      <td>NaN</td>\n",
       "      <td>NaN</td>\n",
       "      <td>Fort Worth</td>\n",
       "      <td>1</td>\n",
       "      <td>i wasnt sure if we were in fort worth or jumanji</td>\n",
       "    </tr>\n",
       "  </tbody>\n",
       "</table>\n",
       "</div>"
      ],
      "text/plain": [
       "   Unnamed: 0.2  Unnamed: 0.1  Unnamed: 0                   id  \\\n",
       "0             0             0           0  1396640490410418179   \n",
       "1             1             1           1  1396618187903545344   \n",
       "2             2             3           3  1396611875278888968   \n",
       "3             3             4           4  1396609919244189696   \n",
       "4             4             5           5  1396586482492710912   \n",
       "\n",
       "                                            raw_text            author_id  \\\n",
       "0  All the rain in North Texas got me like … #sur...             26630630   \n",
       "1  PodCast https://t.co/LnDEGlAXys en Fort Worth,...           1408791613   \n",
       "2  Some serious orange joy #garden #flowers #bloo...            415712551   \n",
       "3  I'm at Falcon Document Solutions in Fort Worth...             64588252   \n",
       "4  I wasn’t sure if we were in Fort Worth or Juma...  1152634941756321792   \n",
       "\n",
       "    edit_history_tweet_ids      conversation_id                created_at  \\\n",
       "0  ['1396640490410418179']  1396640490410418179  2021-05-24T01:33:35.000Z   \n",
       "1  ['1396618187903545344']  1396618187903545344  2021-05-24T00:04:58.000Z   \n",
       "2  ['1396611875278888968']  1396611875278888968  2021-05-23T23:39:53.000Z   \n",
       "3  ['1396609919244189696']  1396609919244189696  2021-05-23T23:32:07.000Z   \n",
       "4  ['1396586482492710912']  1396586482492710912  2021-05-23T21:58:59.000Z   \n",
       "\n",
       "       geo.place_id referenced_tweets withheld.copyright  \\\n",
       "0  42e46bc3663a4b5f               NaN                NaN   \n",
       "1  42e46bc3663a4b5f               NaN                NaN   \n",
       "2  42e46bc3663a4b5f               NaN                NaN   \n",
       "3  42e46bc3663a4b5f               NaN                NaN   \n",
       "4  6e315e1f96e0450a               NaN                NaN   \n",
       "\n",
       "  withheld.country_codes        city  inside  \\\n",
       "0                    NaN  Fort Worth       1   \n",
       "1                    NaN  Fort Worth       1   \n",
       "2                    NaN  Fort Worth       1   \n",
       "3                    NaN  Fort Worth       1   \n",
       "4                    NaN  Fort Worth       1   \n",
       "\n",
       "                                          text_clean  \n",
       "0  all the rain in north texas got me like surfs ...  \n",
       "1                        podcast en fort worth texas  \n",
       "2  some serious orange joy garden flowers bloom c...  \n",
       "3  i m at falcon document solutions in fort worth tx  \n",
       "4   i wasnt sure if we were in fort worth or jumanji  "
      ]
     },
     "execution_count": 3,
     "metadata": {},
     "output_type": "execute_result"
    }
   ],
   "source": [
    "tweets.head()"
   ]
  },
  {
   "cell_type": "code",
   "execution_count": 4,
   "id": "992c1abe",
   "metadata": {},
   "outputs": [
    {
     "data": {
      "text/plain": [
       "city           inside\n",
       "Boston         0         2703\n",
       "               1         2091\n",
       "Chicago        0         2778\n",
       "               1         2219\n",
       "Fort Worth     0         1757\n",
       "               1         1549\n",
       "Jacksonville   0         2244\n",
       "               1         1317\n",
       "Las Vegas      0         2585\n",
       "               1         1922\n",
       "New York       0         2379\n",
       "               1         1808\n",
       "Phoenix        0         2645\n",
       "               1         2096\n",
       "San Antonio    0         2290\n",
       "               1         1992\n",
       "San Francisco  0         2577\n",
       "               1         2079\n",
       "Washington DC  0         2312\n",
       "               1         2098\n",
       "Name: id, dtype: int64"
      ]
     },
     "execution_count": 4,
     "metadata": {},
     "output_type": "execute_result"
    }
   ],
   "source": [
    "tweets.groupby(by=['city', 'inside'])['id'].count()"
   ]
  },
  {
   "cell_type": "code",
   "execution_count": 22,
   "id": "fe8ccb29",
   "metadata": {},
   "outputs": [],
   "source": [
    "long_tweets = tweets.loc[~(tweets.text_clean.str.len() < 32)]"
   ]
  },
  {
   "cell_type": "code",
   "execution_count": 34,
   "id": "5e4ab892",
   "metadata": {},
   "outputs": [],
   "source": [
    "longer_tweets = tweets.loc[~(tweets.text_clean.str.len() < 56)]"
   ]
  },
  {
   "cell_type": "code",
   "execution_count": 35,
   "id": "35bd3763",
   "metadata": {},
   "outputs": [
    {
     "data": {
      "text/plain": [
       "city           inside\n",
       "Boston         0         2402\n",
       "               1         1259\n",
       "Chicago        0         2485\n",
       "               1         1997\n",
       "Fort Worth     0         1646\n",
       "               1         1395\n",
       "Jacksonville   0         2118\n",
       "               1         1266\n",
       "Las Vegas      0         2407\n",
       "               1         1800\n",
       "New York       0         2138\n",
       "               1         1623\n",
       "Phoenix        0         2441\n",
       "               1         1920\n",
       "San Antonio    0         2147\n",
       "               1         1869\n",
       "San Francisco  0         2497\n",
       "               1         1975\n",
       "Washington DC  0         2254\n",
       "               1         2052\n",
       "Name: id, dtype: int64"
      ]
     },
     "execution_count": 35,
     "metadata": {},
     "output_type": "execute_result"
    }
   ],
   "source": [
    "long_tweets.groupby(by=['city', 'inside'])['id'].count()"
   ]
  },
  {
   "cell_type": "code",
   "execution_count": 36,
   "id": "66ece28a",
   "metadata": {},
   "outputs": [
    {
     "data": {
      "text/plain": [
       "city           inside\n",
       "Boston         0         1945\n",
       "               1         1022\n",
       "Chicago        0         1998\n",
       "               1         1568\n",
       "Fort Worth     0         1378\n",
       "               1         1107\n",
       "Jacksonville   0         1723\n",
       "               1         1027\n",
       "Las Vegas      0         1996\n",
       "               1         1322\n",
       "New York       0         1725\n",
       "               1         1281\n",
       "Phoenix        0         2036\n",
       "               1         1520\n",
       "San Antonio    0         1804\n",
       "               1         1544\n",
       "San Francisco  0         2224\n",
       "               1         1435\n",
       "Washington DC  0         2135\n",
       "               1         1920\n",
       "Name: id, dtype: int64"
      ]
     },
     "execution_count": 36,
     "metadata": {},
     "output_type": "execute_result"
    }
   ],
   "source": [
    "longer_tweets.groupby(by=['city', 'inside'])['id'].count()"
   ]
  },
  {
   "cell_type": "code",
   "execution_count": 39,
   "id": "7aabe7ec",
   "metadata": {},
   "outputs": [],
   "source": [
    "def sample_tweets(df, seed):\n",
    "    samples = []\n",
    "    for city in df.city.unique().tolist():\n",
    "        samples.append(df[(df.city == city) & (df.inside == 1)].sample(n=1000, random_state=seed))\n",
    "        samples.append(df[(df.city == city) & (df.inside == 0)].sample(n=1000, random_state=seed))\n",
    "        \n",
    "    return pd.concat(samples)"
   ]
  },
  {
   "cell_type": "code",
   "execution_count": 41,
   "id": "c7185e6e",
   "metadata": {},
   "outputs": [],
   "source": [
    "sample_32 = sample_tweets(long_tweets, 12345)"
   ]
  },
  {
   "cell_type": "code",
   "execution_count": 43,
   "id": "65a07a56",
   "metadata": {},
   "outputs": [],
   "source": [
    "sample_56 = sample_tweets(longer_tweets, 12345)"
   ]
  },
  {
   "cell_type": "code",
   "execution_count": 44,
   "id": "c99de691",
   "metadata": {},
   "outputs": [
    {
     "data": {
      "text/plain": [
       "city           inside\n",
       "Boston         0         1000\n",
       "               1         1000\n",
       "Chicago        0         1000\n",
       "               1         1000\n",
       "Fort Worth     0         1000\n",
       "               1         1000\n",
       "Jacksonville   0         1000\n",
       "               1         1000\n",
       "Las Vegas      0         1000\n",
       "               1         1000\n",
       "New York       0         1000\n",
       "               1         1000\n",
       "Phoenix        0         1000\n",
       "               1         1000\n",
       "San Antonio    0         1000\n",
       "               1         1000\n",
       "San Francisco  0         1000\n",
       "               1         1000\n",
       "Washington DC  0         1000\n",
       "               1         1000\n",
       "Name: id, dtype: int64"
      ]
     },
     "execution_count": 44,
     "metadata": {},
     "output_type": "execute_result"
    }
   ],
   "source": [
    "sample_32.groupby(by=['city', 'inside'])['id'].count()"
   ]
  },
  {
   "cell_type": "code",
   "execution_count": 45,
   "id": "87af720a",
   "metadata": {},
   "outputs": [
    {
     "data": {
      "text/plain": [
       "city           inside\n",
       "Boston         0         1000\n",
       "               1         1000\n",
       "Chicago        0         1000\n",
       "               1         1000\n",
       "Fort Worth     0         1000\n",
       "               1         1000\n",
       "Jacksonville   0         1000\n",
       "               1         1000\n",
       "Las Vegas      0         1000\n",
       "               1         1000\n",
       "New York       0         1000\n",
       "               1         1000\n",
       "Phoenix        0         1000\n",
       "               1         1000\n",
       "San Antonio    0         1000\n",
       "               1         1000\n",
       "San Francisco  0         1000\n",
       "               1         1000\n",
       "Washington DC  0         1000\n",
       "               1         1000\n",
       "Name: id, dtype: int64"
      ]
     },
     "execution_count": 45,
     "metadata": {},
     "output_type": "execute_result"
    }
   ],
   "source": [
    "sample_56.groupby(by=['city', 'inside'])['id'].count()"
   ]
  },
  {
   "cell_type": "code",
   "execution_count": 48,
   "id": "dd5dccc5",
   "metadata": {},
   "outputs": [],
   "source": [
    "sample_32.drop(columns=[\"Unnamed: 0.2\", \"Unnamed: 0.1\", \"Unnamed: 0\"]).to_csv(\"tweets_sample_32.csv\")"
   ]
  },
  {
   "cell_type": "code",
   "execution_count": 49,
   "id": "72aa80ef",
   "metadata": {},
   "outputs": [],
   "source": [
    "sample_56.drop(columns=[\"Unnamed: 0.2\", \"Unnamed: 0.1\", \"Unnamed: 0\"]).to_csv(\"tweets_sample_56.csv\")"
   ]
  },
  {
   "cell_type": "code",
   "execution_count": null,
   "id": "5b626ef9",
   "metadata": {},
   "outputs": [],
   "source": []
  }
 ],
 "metadata": {
  "kernelspec": {
   "display_name": "Python 3 (ipykernel)",
   "language": "python",
   "name": "python3"
  },
  "language_info": {
   "codemirror_mode": {
    "name": "ipython",
    "version": 3
   },
   "file_extension": ".py",
   "mimetype": "text/x-python",
   "name": "python",
   "nbconvert_exporter": "python",
   "pygments_lexer": "ipython3",
   "version": "3.10.10"
  }
 },
 "nbformat": 4,
 "nbformat_minor": 5
}
