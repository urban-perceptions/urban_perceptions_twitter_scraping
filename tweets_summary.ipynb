{
 "cells": [
  {
   "cell_type": "code",
   "execution_count": 7,
   "id": "89d2c605",
   "metadata": {},
   "outputs": [],
   "source": [
    "import pandas as pd\n",
    "import matplotlib.pyplot as plt\n",
    "import numpy as np"
   ]
  },
  {
   "cell_type": "code",
   "execution_count": 8,
   "id": "998621f2",
   "metadata": {},
   "outputs": [],
   "source": [
    "tweets = pd.read_csv(\"clean_tweets_no_media.csv\")"
   ]
  },
  {
   "cell_type": "code",
   "execution_count": 9,
   "id": "0802fdb5",
   "metadata": {},
   "outputs": [],
   "source": [
    "tweets['length'] = tweets.raw_text.str.len()"
   ]
  },
  {
   "cell_type": "code",
   "execution_count": 10,
   "id": "fda95b93",
   "metadata": {},
   "outputs": [],
   "source": [
    "tweets['has_hashtag'] = np.where(tweets.raw_text.str.contains(\"#\"), 1, 0)"
   ]
  },
  {
   "cell_type": "code",
   "execution_count": 12,
   "id": "87d03ed4",
   "metadata": {},
   "outputs": [
    {
     "data": {
      "text/plain": [
       "city           inside\n",
       "Boston         0         2703\n",
       "               1         2091\n",
       "Chicago        0         2778\n",
       "               1         2219\n",
       "Fort Worth     0         1757\n",
       "               1         1549\n",
       "Jacksonville   0         2244\n",
       "               1         1317\n",
       "Las Vegas      0         2585\n",
       "               1         1922\n",
       "New York       0         2379\n",
       "               1         1808\n",
       "Phoenix        0         2645\n",
       "               1         2096\n",
       "San Antonio    0         2290\n",
       "               1         1992\n",
       "San Francisco  0         2577\n",
       "               1         2079\n",
       "Washington DC  0         2312\n",
       "               1         2098\n",
       "Name: id, dtype: int64"
      ]
     },
     "execution_count": 12,
     "metadata": {},
     "output_type": "execute_result"
    }
   ],
   "source": [
    "tweets.groupby(by=['city', 'inside'])['id'].count()"
   ]
  },
  {
   "cell_type": "code",
   "execution_count": 23,
   "id": "3464ca53",
   "metadata": {},
   "outputs": [
    {
     "data": {
      "text/html": [
       "<div>\n",
       "<style scoped>\n",
       "    .dataframe tbody tr th:only-of-type {\n",
       "        vertical-align: middle;\n",
       "    }\n",
       "\n",
       "    .dataframe tbody tr th {\n",
       "        vertical-align: top;\n",
       "    }\n",
       "\n",
       "    .dataframe thead th {\n",
       "        text-align: right;\n",
       "    }\n",
       "</style>\n",
       "<table border=\"1\" class=\"dataframe\">\n",
       "  <thead>\n",
       "    <tr style=\"text-align: right;\">\n",
       "      <th></th>\n",
       "      <th>has_hashtag</th>\n",
       "      <th>id</th>\n",
       "      <th>inside</th>\n",
       "      <th>length</th>\n",
       "    </tr>\n",
       "    <tr>\n",
       "      <th>city</th>\n",
       "      <th></th>\n",
       "      <th></th>\n",
       "      <th></th>\n",
       "      <th></th>\n",
       "    </tr>\n",
       "  </thead>\n",
       "  <tbody>\n",
       "    <tr>\n",
       "      <th>Boston</th>\n",
       "      <td>0.307468</td>\n",
       "      <td>4794</td>\n",
       "      <td>0.436170</td>\n",
       "      <td>102</td>\n",
       "    </tr>\n",
       "    <tr>\n",
       "      <th>Chicago</th>\n",
       "      <td>0.329198</td>\n",
       "      <td>4997</td>\n",
       "      <td>0.444066</td>\n",
       "      <td>113</td>\n",
       "    </tr>\n",
       "    <tr>\n",
       "      <th>Fort Worth</th>\n",
       "      <td>0.296431</td>\n",
       "      <td>3306</td>\n",
       "      <td>0.468542</td>\n",
       "      <td>124</td>\n",
       "    </tr>\n",
       "    <tr>\n",
       "      <th>Jacksonville</th>\n",
       "      <td>0.326874</td>\n",
       "      <td>3561</td>\n",
       "      <td>0.369840</td>\n",
       "      <td>127</td>\n",
       "    </tr>\n",
       "    <tr>\n",
       "      <th>Las Vegas</th>\n",
       "      <td>0.344797</td>\n",
       "      <td>4507</td>\n",
       "      <td>0.426448</td>\n",
       "      <td>125</td>\n",
       "    </tr>\n",
       "    <tr>\n",
       "      <th>New York</th>\n",
       "      <td>0.433723</td>\n",
       "      <td>4187</td>\n",
       "      <td>0.431813</td>\n",
       "      <td>116</td>\n",
       "    </tr>\n",
       "    <tr>\n",
       "      <th>Phoenix</th>\n",
       "      <td>0.411727</td>\n",
       "      <td>4741</td>\n",
       "      <td>0.442101</td>\n",
       "      <td>129</td>\n",
       "    </tr>\n",
       "    <tr>\n",
       "      <th>San Antonio</th>\n",
       "      <td>0.407987</td>\n",
       "      <td>4282</td>\n",
       "      <td>0.465203</td>\n",
       "      <td>129</td>\n",
       "    </tr>\n",
       "    <tr>\n",
       "      <th>San Francisco</th>\n",
       "      <td>0.422036</td>\n",
       "      <td>4656</td>\n",
       "      <td>0.446521</td>\n",
       "      <td>135</td>\n",
       "    </tr>\n",
       "    <tr>\n",
       "      <th>Washington DC</th>\n",
       "      <td>0.692063</td>\n",
       "      <td>4410</td>\n",
       "      <td>0.475737</td>\n",
       "      <td>154</td>\n",
       "    </tr>\n",
       "  </tbody>\n",
       "</table>\n",
       "</div>"
      ],
      "text/plain": [
       "               has_hashtag    id    inside  length\n",
       "city                                              \n",
       "Boston            0.307468  4794  0.436170     102\n",
       "Chicago           0.329198  4997  0.444066     113\n",
       "Fort Worth        0.296431  3306  0.468542     124\n",
       "Jacksonville      0.326874  3561  0.369840     127\n",
       "Las Vegas         0.344797  4507  0.426448     125\n",
       "New York          0.433723  4187  0.431813     116\n",
       "Phoenix           0.411727  4741  0.442101     129\n",
       "San Antonio       0.407987  4282  0.465203     129\n",
       "San Francisco     0.422036  4656  0.446521     135\n",
       "Washington DC     0.692063  4410  0.475737     154"
      ]
     },
     "execution_count": 23,
     "metadata": {},
     "output_type": "execute_result"
    }
   ],
   "source": [
    "tweets.pivot_table(index=\"city\", values=['id', \"inside\", \"has_hashtag\", \"length\"], aggfunc={'id': \"count\", \"inside\": \"mean\", \"has_hashtag\": \"mean\", \"length\": \"median\"})"
   ]
  },
  {
   "cell_type": "code",
   "execution_count": 66,
   "id": "8dbb72f7",
   "metadata": {},
   "outputs": [
    {
     "data": {
      "image/png": "[encoded data removed]",
      "text/plain": [
       "<Figure size 640x480 with 1 Axes>"
      ]
     },
     "metadata": {},
     "output_type": "display_data"
    }
   ],
   "source": [
    "plt.hist(tweets.length)\n",
    "plt.xlabel(\"Length of Tweet\")\n",
    "plt.ylabel(\"Tweet Count\")\n",
    "plt.savefig(\"length_distribution.png\")\n",
    "#tweets.length.hist()"
   ]
  },
  {
   "cell_type": "code",
   "execution_count": 33,
   "id": "b0789cc3",
   "metadata": {},
   "outputs": [],
   "source": [
    "tweets[\"date_time\"] = pd.to_datetime(tweets.created_at)"
   ]
  },
  {
   "cell_type": "code",
   "execution_count": 46,
   "id": "71c7eba3",
   "metadata": {},
   "outputs": [],
   "source": [
    "tweets['month'] = tweets.date_time.dt.strftime(\"%m\").astype(int)"
   ]
  },
  {
   "cell_type": "code",
   "execution_count": 47,
   "id": "c4c3c937",
   "metadata": {},
   "outputs": [],
   "source": [
    "tweets['hour'] = tweets.date_time.dt.strftime('%H').astype(int)"
   ]
  },
  {
   "cell_type": "code",
   "execution_count": 53,
   "id": "44300271",
   "metadata": {},
   "outputs": [],
   "source": [
    "hours = tweets.pivot_table(index=\"hour\", values=\"id\", aggfunc=\"count\")"
   ]
  },
  {
   "cell_type": "code",
   "execution_count": 54,
   "id": "209d90b9",
   "metadata": {},
   "outputs": [],
   "source": [
    "months = tweets.pivot_table(index=\"month\", values=\"id\", aggfunc=\"count\")"
   ]
  },
  {
   "cell_type": "code",
   "execution_count": 52,
   "id": "d288916a",
   "metadata": {},
   "outputs": [
    {
     "data": {
      "text/plain": [
       "0        2021\n",
       "1        2021\n",
       "2        2021\n",
       "3        2021\n",
       "4        2021\n",
       "         ... \n",
       "43436    2021\n",
       "43437    2021\n",
       "43438    2021\n",
       "43439    2021\n",
       "43440    2021\n",
       "Name: date_time, Length: 43441, dtype: object"
      ]
     },
     "execution_count": 52,
     "metadata": {},
     "output_type": "execute_result"
    }
   ],
   "source": [
    "tweets.date_time.dt.strftime(\"%Y\")"
   ]
  },
  {
   "cell_type": "code",
   "execution_count": 62,
   "id": "a3eed2c8",
   "metadata": {},
   "outputs": [
    {
     "data": {
      "image/png": "[encoded data removed]",
      "text/plain": [
       "<Figure size 640x480 with 1 Axes>"
      ]
     },
     "metadata": {},
     "output_type": "display_data"
    }
   ],
   "source": [
    "plt.bar(months.index, months.id)\n",
    "plt.xlabel(\"Month\")\n",
    "plt.ylabel(\"Tweet Count\")\n",
    "plt.savefig(\"monthly_tweet_count.png\")"
   ]
  },
  {
   "cell_type": "code",
   "execution_count": 63,
   "id": "a9c9dfa9",
   "metadata": {},
   "outputs": [
    {
     "data": {
      "image/png": "[encoded data removed]",
      "text/plain": [
       "<Figure size 640x480 with 1 Axes>"
      ]
     },
     "metadata": {},
     "output_type": "display_data"
    }
   ],
   "source": [
    "plt.bar(hours.index, hours.id)\n",
    "plt.xlabel(\"Hour\")\n",
    "plt.ylabel(\"Tweet Count\")\n",
    "plt.savefig(\"hourly_tweet_count.png\")"
   ]
  },
  {
   "cell_type": "code",
   "execution_count": null,
   "id": "a60f7d63",
   "metadata": {},
   "outputs": [],
   "source": []
  }
 ],
 "metadata": {
  "kernelspec": {
   "display_name": "Python 3 (ipykernel)",
   "language": "python",
   "name": "python3"
  },
  "language_info": {
   "codemirror_mode": {
    "name": "ipython",
    "version": 3
   },
   "file_extension": ".py",
   "mimetype": "text/x-python",
   "name": "python",
   "nbconvert_exporter": "python",
   "pygments_lexer": "ipython3",
   "version": "3.10.10"
  }
 },
 "nbformat": 4,
 "nbformat_minor": 5
}
